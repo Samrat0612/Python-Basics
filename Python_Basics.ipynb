{
  "nbformat": 4,
  "nbformat_minor": 0,
  "metadata": {
    "colab": {
      "provenance": []
    },
    "kernelspec": {
      "name": "python3",
      "display_name": "Python 3"
    },
    "language_info": {
      "name": "python"
    }
  },
  "cells": [
    {
      "cell_type": "code",
      "execution_count": null,
      "metadata": {
        "id": "T8XSJ0P_Z8k9"
      },
      "outputs": [],
      "source": []
    },
    {
      "cell_type": "markdown",
      "source": [
        "**Python Basic Questions**"
      ],
      "metadata": {
        "id": "8yO6PVRSagEd"
      }
    },
    {
      "cell_type": "markdown",
      "source": [
        "1. What is Python, and why is it popular?\n",
        "\n",
        "Ans. Python is a programming language and it is lika a set of special rules and symbols that we use to give instructtions to a computer.\n",
        "OR\n",
        "In simple words - Python is a formall language for creating instructions for a computer to follow."
      ],
      "metadata": {
        "id": "f_zX7WRAafoG"
      }
    },
    {
      "cell_type": "markdown",
      "source": [
        " 2. What is an interpreter in Python?\n",
        "\n",
        " Ans. Interpreter in Python is a computer program that converts each high level program statement intop machine code. Interpreter translates the command that we write out into code that the computer can understand."
      ],
      "metadata": {
        "id": "DmYqTjAIbjuN"
      }
    },
    {
      "cell_type": "markdown",
      "source": [
        "3.  What are pre-defined keywords in Python?\n",
        "\n",
        "Ans. Pre-defined keywords in Python holds special meaning and have specific purpose in Python. Means of pre-defined keywords do not changes, they are always fixed. For example - print, type, true, false, etc."
      ],
      "metadata": {
        "id": "HLaMXhnacLTl"
      }
    },
    {
      "cell_type": "markdown",
      "source": [
        "4. Can keywords be used as variable names?\n",
        "\n",
        "Ans. No, keywords cannot be used as variable names. Keywords are reserved words that define syntax and structure of a programming language. And variables are the place holders where we keep variety of Data which we can use to write logic."
      ],
      "metadata": {
        "id": "rLocWeenc9yV"
      }
    },
    {
      "cell_type": "markdown",
      "source": [
        "5.  What is mutability in Python?\n",
        "\n",
        "Ans. Mutability – It means ‘change’. Means to edit something. Object/ Containers/ Data Structure whose state or value can be changed after they are created are called us mutable objects or containers. List is a type of mutable objects."
      ],
      "metadata": {
        "id": "izuHoBd4dj3V"
      }
    },
    {
      "cell_type": "markdown",
      "source": [
        "6. Why are lists mutable, but tuples are immutable?\n",
        "\n",
        "Ans. The main difference between tuples and lists is that tuples are immutable, meaning their contents cannot be changed after creation, while lists are mutable and can be modified. Additionally, tuples are more memory-efficient compared to lists. Tuples can't be changed after they're created, but lists can be modified."
      ],
      "metadata": {
        "id": "ok0dakREeBm9"
      }
    },
    {
      "cell_type": "markdown",
      "source": [
        "7. What is the difference between “==” and “is” operators in Python?\n",
        "\n",
        "Ans. The == operator is also known as the equality operator. It checks if the data or content of two objects is the same. The is operator is also known as the identity operator. It checks if two references point to the same object in memory."
      ],
      "metadata": {
        "id": "gUO7Ra05eXgF"
      }
    },
    {
      "cell_type": "markdown",
      "source": [
        "8. What are logical operators in Python?\n",
        "\n",
        "Ans. In Python, logical operators are keywords that combine and evaluate multiple conditions. They are used to create complex conditions based on Boolean values. The three logical operators in Python are and, or, and not.\n",
        "\n",
        "and: Returns True if both statements are true\n",
        "\n",
        "or: Returns True if one of the statements is true\n",
        "\n",
        "not: Reverses the result, returning False if the result is true"
      ],
      "metadata": {
        "id": "cVrRFU_Re2gF"
      }
    },
    {
      "cell_type": "markdown",
      "source": [
        "9.  What is type casting in Python?\n",
        "\n",
        "Ans. The process of changing the data type of a value/ object in Python is known as Type casting."
      ],
      "metadata": {
        "id": "SU7JLOeUftxL"
      }
    },
    {
      "cell_type": "markdown",
      "source": [
        "10. What is the difference between implicit and explicit type casting?\n",
        "\n",
        "Ans. Implicit type conversion is performed by a Python interpreter only. Explicit type conversion is performed by the user by explicitly using type conversion functions in the program code."
      ],
      "metadata": {
        "id": "cj2idcozgEUb"
      }
    },
    {
      "cell_type": "markdown",
      "source": [
        "11. What is the purpose of conditional statements in Python?\n",
        "\n",
        "Ans. In Python, conditional statements are used to execute specific blocks of code based on whether a given condition is True or False. They allow you to control the flow of your program by making decisions.\n",
        "\n",
        "The main types of conditional statements in Python are:\n",
        "\n",
        "if: Executes a block of code if the condition is True.\n",
        "\n",
        "elif(short for \"else if\"): checks another condition if the previous if or elif conditions were False.\n",
        "\n",
        "else:Executes a block of code if none of the previous conditions were True."
      ],
      "metadata": {
        "id": "BtX4OSnBgtML"
      }
    },
    {
      "cell_type": "markdown",
      "source": [
        "12. How does the elif statement work?\n",
        "\n",
        "Ans. The elif statement in Python stands for \"else if,\" and it allows you to check multiple conditions after an initial if statement. It gives you a way to handle several conditions sequentially, only executing the block of code that corresponds to the first True condition."
      ],
      "metadata": {
        "id": "DRrJF9zPhZ2T"
      }
    },
    {
      "cell_type": "code",
      "source": [
        "#Example: for ans.12\n",
        "x = 10\n",
        "\n",
        "if x < 5:\n",
        "    print(\"x is less than 5\")\n",
        "elif x == 10:\n",
        "    print(\"x is exactly 10\")\n",
        "elif x > 5:\n",
        "    print(\"x is greater than 5\")\n",
        "else:\n",
        "    print(\"x is something else\")"
      ],
      "metadata": {
        "colab": {
          "base_uri": "https://localhost:8080/"
        },
        "id": "Wtzr-nJ-hG4y",
        "outputId": "63993efc-e310-4363-e9f9-5418e549db6f"
      },
      "execution_count": null,
      "outputs": [
        {
          "output_type": "stream",
          "name": "stdout",
          "text": [
            "x is exactly 10\n"
          ]
        }
      ]
    },
    {
      "cell_type": "markdown",
      "source": [
        "13. What is the difference between for and while loops?\n",
        "\n",
        "Ans. For Loop:\n",
        "The for loop is used when you know how many times you want to repeat a block of code or when you are iterating over a sequence (like a list, tuple, or string). It iterates over a collection or a range of values, executing the code inside the loop for each item.\n",
        "\n",
        "While Loop:\n",
        "The while loop is used when you want to repeat a block of code as long as a condition is True. The condition is checked before each iteration, and the loop continues until the condition becomes False.\n",
        "You don't necessarily know the number of iterations beforehand; instead, the loop runs as long as the condition remains valid."
      ],
      "metadata": {
        "id": "WqTkAeLQh7Py"
      }
    },
    {
      "cell_type": "markdown",
      "source": [
        "14. Describe a scenario where a while loop is more suitable than a for loop?\n",
        "\n",
        "Ans. We would use a while loop when you want to keep repeating an action until a specific condition is met, rather than iterating over a predefined sequence.\n",
        "\n",
        "Scenario: Waiting for User Input\n",
        "\n",
        "Imagine you're building a program where you want to ask the user for a valid password. You don't know how many attempts the user will need, so you need to continue prompting the user until they enter the correct password.\n",
        "\n",
        "Here's how you might solve this with a while loop:\n",
        "\n",
        "Imagine we are building a program where we want to ask the user for a valid password. We don't know how many attempts the user will need, so we need to continue prompting the user until they enter the correct password.\n",
        "\n",
        "Here's how we might solve this with a while loop:"
      ],
      "metadata": {
        "id": "xaOxz3eOiS-S"
      }
    },
    {
      "cell_type": "code",
      "source": [
        "correct_password = \"pwskills1234\"\n",
        "user_input = \"\"\n",
        "\n",
        "while user_input != correct_password:\n",
        "    user_input = input(\"Enter the password: \")\n",
        "\n",
        "print(\"Password accepted!\")"
      ],
      "metadata": {
        "colab": {
          "base_uri": "https://localhost:8080/"
        },
        "id": "LvihwJL_jR7y",
        "outputId": "7ce1df66-52ae-4602-c76a-c7869864be0d"
      },
      "execution_count": null,
      "outputs": [
        {
          "output_type": "stream",
          "name": "stdout",
          "text": [
            "Enter the password: samrat1234\n",
            "Enter the password: pwskills1234\n",
            "Password accepted!\n"
          ]
        }
      ]
    },
    {
      "cell_type": "markdown",
      "source": [
        "**Practical Questions**"
      ],
      "metadata": {
        "id": "xLlZeGKF2QfE"
      }
    },
    {
      "cell_type": "markdown",
      "source": [
        "1.  Write a Python program to print \"Hello, World!\""
      ],
      "metadata": {
        "id": "su8GovNn2Xvc"
      }
    },
    {
      "cell_type": "code",
      "source": [
        "#ANS.\n",
        "print(\"Hello, World!\")"
      ],
      "metadata": {
        "colab": {
          "base_uri": "https://localhost:8080/"
        },
        "id": "pPNgpWy32bUs",
        "outputId": "2fab2ead-770e-4e0a-8bdf-0444c3f885c2"
      },
      "execution_count": null,
      "outputs": [
        {
          "output_type": "stream",
          "name": "stdout",
          "text": [
            "Hello, World!\n"
          ]
        }
      ]
    },
    {
      "cell_type": "markdown",
      "source": [
        "2. Write a Python program that displays your name and age."
      ],
      "metadata": {
        "id": "K_ZWNi_T2tOM"
      }
    },
    {
      "cell_type": "code",
      "source": [
        "#ANS.\n",
        "name = \"Samrat Deep Nath\"\n",
        "age = 24\n",
        "\n",
        "print(\"Name:\", name)\n",
        "print(\"Age:\", age)"
      ],
      "metadata": {
        "colab": {
          "base_uri": "https://localhost:8080/"
        },
        "id": "_cFkw2UA25Hs",
        "outputId": "3d74288f-f036-42e9-b6c1-d937f4d49f25"
      },
      "execution_count": null,
      "outputs": [
        {
          "output_type": "stream",
          "name": "stdout",
          "text": [
            "Name: Samrat Deep Nath\n",
            "Age: 24\n"
          ]
        }
      ]
    },
    {
      "cell_type": "markdown",
      "source": [
        "3. Write code to print all the pre-defined keywords in Python using the keyword library."
      ],
      "metadata": {
        "id": "WchSicBf3MK0"
      }
    },
    {
      "cell_type": "code",
      "source": [
        "#ANS.\n",
        "help('keywords')"
      ],
      "metadata": {
        "colab": {
          "base_uri": "https://localhost:8080/"
        },
        "id": "hR5vM1hu3pPV",
        "outputId": "270259ac-4cf3-4ed7-8223-e9925862b0dc"
      },
      "execution_count": 4,
      "outputs": [
        {
          "output_type": "stream",
          "name": "stdout",
          "text": [
            "\n",
            "Here is a list of the Python keywords.  Enter any keyword to get more help.\n",
            "\n",
            "False               class               from                or\n",
            "None                continue            global              pass\n",
            "True                def                 if                  raise\n",
            "and                 del                 import              return\n",
            "as                  elif                in                  try\n",
            "assert              else                is                  while\n",
            "async               except              lambda              with\n",
            "await               finally             nonlocal            yield\n",
            "break               for                 not                 \n",
            "\n"
          ]
        }
      ]
    },
    {
      "cell_type": "markdown",
      "source": [
        "4. Write a program that checks if a given word is a Python keyword."
      ],
      "metadata": {
        "id": "c6-RXaDT3yZl"
      }
    },
    {
      "cell_type": "code",
      "source": [
        "#ANS.\n",
        "import keyword\n",
        "\n",
        "# Function to check if the word is a Python keyword\n",
        "def check_keyword(word):\n",
        "    if keyword.iskeyword(word):\n",
        "        print(f'\"{word}\" is a Python keyword.')\n",
        "    else:\n",
        "        print(f'\"{word}\" is not a Python keyword.')\n",
        "\n",
        "# Example usage\n",
        "word = input(\"Enter a word to check: \")\n",
        "check_keyword(word)"
      ],
      "metadata": {
        "id": "v_d1Sai034WV",
        "colab": {
          "base_uri": "https://localhost:8080/"
        },
        "outputId": "13abab10-0962-4108-a16e-a8557af76a70"
      },
      "execution_count": 8,
      "outputs": [
        {
          "output_type": "stream",
          "name": "stdout",
          "text": [
            "Enter a word to check: class\n",
            "\"class\" is a Python keyword.\n"
          ]
        }
      ]
    },
    {
      "cell_type": "markdown",
      "source": [
        "5. Create a list and tuple in Python, and demonstrate how attempting to change an element works differently\n",
        "for each."
      ],
      "metadata": {
        "id": "QhjB5qAY4lt0"
      }
    },
    {
      "cell_type": "code",
      "source": [
        "#ANS.\n",
        "\n",
        "# Creating a list and a tuple\n",
        "my_list = [10, 20, 30, 40]\n",
        "my_tuple = (10, 20, 30, 40)\n",
        "\n",
        "# Attempting to change an element in the list\n",
        "print(\"Original List:\", my_list)\n",
        "my_list[1] = 50  # Changing element at index 1\n",
        "print(\"Updated List:\", my_list)\n",
        "\n",
        "# Attempting to change an element in the tuple\n",
        "print(\"Original Tuple:\", my_tuple)\n",
        "try:\n",
        "    my_tuple[1] = 50  # This will raise an error because tuples are immutable\n",
        "except TypeError as e:\n",
        "    print(\"Error:\", e)"
      ],
      "metadata": {
        "colab": {
          "base_uri": "https://localhost:8080/"
        },
        "id": "-A34TMRj5QWr",
        "outputId": "82aa5286-eb77-42e8-bf04-132c1958c65a"
      },
      "execution_count": 11,
      "outputs": [
        {
          "output_type": "stream",
          "name": "stdout",
          "text": [
            "Original List: [10, 20, 30, 40]\n",
            "Updated List: [10, 50, 30, 40]\n",
            "Original Tuple: (10, 20, 30, 40)\n",
            "Error: 'tuple' object does not support item assignment\n"
          ]
        }
      ]
    },
    {
      "cell_type": "markdown",
      "source": [
        "Explaination for the answer number 5:\n",
        "\n",
        "List: Lists are mutable, which means you can change their elements. In the example above, we changed the second element of the list (my_list[1]) from 20 to 50.\n",
        "\n",
        "Tuple: Tuples are immutable, so attempting to change an element (my_tuple[1] = 50) raises a TypeError, as tuples cannot be modified after creation."
      ],
      "metadata": {
        "id": "HCjpv0Uk5XHD"
      }
    },
    {
      "cell_type": "markdown",
      "source": [
        "6. Write a function to demonstrate the behavior of mutable and immutable arguments."
      ],
      "metadata": {
        "id": "D_Y8_8sJ5hLc"
      }
    },
    {
      "cell_type": "code",
      "source": [
        "#ANS.\n",
        "# Function to demonstrate mutable and immutable arguments\n",
        "def demo_mutable_immutable(mutable_arg, immutable_arg):\n",
        "    print(\"Before modification:\")\n",
        "    print(\"Mutable argument:\", mutable_arg)\n",
        "    print(\"Immutable argument:\", immutable_arg)\n",
        "\n",
        "    # Modifying the mutable argument\n",
        "    mutable_arg.append(100)\n",
        "\n",
        "    # Modifying the immutable argument (this will not work directly)\n",
        "    # Immutable types like integers or strings cannot be modified in place\n",
        "    immutable_arg += 10  # This will not modify the original integer but create a new one\n",
        "\n",
        "    print(\"\\nAfter modification:\")\n",
        "    print(\"Mutable argument:\", mutable_arg)\n",
        "    print(\"Immutable argument:\", immutable_arg)\n",
        "\n",
        "# Testing the function\n",
        "mutable_list = [1, 2, 3]\n",
        "immutable_int = 50\n",
        "\n",
        "demo_mutable_immutable(mutable_list, immutable_int)\n",
        "\n",
        "# After the function call, check the original arguments outside the function\n",
        "print(\"\\nOutside function:\")\n",
        "print(\"Original mutable argument (list):\", mutable_list)\n",
        "print(\"Original immutable argument (int):\", immutable_int)"
      ],
      "metadata": {
        "colab": {
          "base_uri": "https://localhost:8080/"
        },
        "id": "crv8hKSR5ksj",
        "outputId": "5bae3fe4-9959-4ab4-c0f7-8fe533e4e08b"
      },
      "execution_count": 12,
      "outputs": [
        {
          "output_type": "stream",
          "name": "stdout",
          "text": [
            "Before modification:\n",
            "Mutable argument: [1, 2, 3]\n",
            "Immutable argument: 50\n",
            "\n",
            "After modification:\n",
            "Mutable argument: [1, 2, 3, 100]\n",
            "Immutable argument: 60\n",
            "\n",
            "Outside function:\n",
            "Original mutable argument (list): [1, 2, 3, 100]\n",
            "Original immutable argument (int): 50\n"
          ]
        }
      ]
    },
    {
      "cell_type": "markdown",
      "source": [
        "Explaination for answe number 6:\n",
        "\n",
        "Mutable (list): Changes made to the mutable argument inside the function are reflected outside.\n",
        "\n",
        "\n",
        "Immutable (int): Changes to the immutable argument inside the function do not affect the original value outside. Instead, a new value is created and assigned within the function's scope.\n",
        "\n"
      ],
      "metadata": {
        "id": "JxD6HTkz5yJj"
      }
    },
    {
      "cell_type": "markdown",
      "source": [
        "7. Write a function to demonstrate the behavior of mutable and immutable arguments."
      ],
      "metadata": {
        "id": "vNFKKy9459Bb"
      }
    },
    {
      "cell_type": "code",
      "source": [
        "#ANS. Same as answer number 6."
      ],
      "metadata": {
        "id": "YBMlGV5c6Csr"
      },
      "execution_count": 13,
      "outputs": []
    },
    {
      "cell_type": "markdown",
      "source": [
        "8. Write a program to demonstrate the use of logical operators.\n"
      ],
      "metadata": {
        "id": "GPKG-F_N6Ic7"
      }
    },
    {
      "cell_type": "code",
      "source": [
        "#ANS. Here's a Python program that demonstrates the use of logical operators (and, or, and not) with various conditions:\n",
        "\n",
        "# Define some variables\n",
        "a = 5\n",
        "b = 10\n",
        "c = 15\n",
        "\n",
        "# Using 'and' logical operator\n",
        "print(\"Using 'and' logical operator:\")\n",
        "print(f\"a < b and b < c: {a < b and b < c}\")  # True because both conditions are true\n",
        "print(f\"a > b and b < c: {a > b and b < c}\")  # False because a > b is false\n",
        "\n",
        "# Using 'or' logical operator\n",
        "print(\"\\nUsing 'or' logical operator:\")\n",
        "print(f\"a < b or b > c: {a < b or b > c}\")  # True because a < b is true\n",
        "print(f\"a > b or b > c: {a > b or b > c}\")  # False because both conditions are false\n",
        "\n",
        "# Using 'not' logical operator\n",
        "print(\"\\nUsing 'not' logical operator:\")\n",
        "print(f\"not (a < b): {not (a < b)}\")  # False because a < b is true, so not (True) = False\n",
        "print(f\"not (a > b): {not (a > b)}\")  # True because a > b is false, so not (False) = True"
      ],
      "metadata": {
        "colab": {
          "base_uri": "https://localhost:8080/"
        },
        "id": "nOt02SQX6MQL",
        "outputId": "8f3ecdcd-29ac-4c69-e93d-947821ad1276"
      },
      "execution_count": 14,
      "outputs": [
        {
          "output_type": "stream",
          "name": "stdout",
          "text": [
            "Using 'and' logical operator:\n",
            "a < b and b < c: True\n",
            "a > b and b < c: False\n",
            "\n",
            "Using 'or' logical operator:\n",
            "a < b or b > c: True\n",
            "a > b or b > c: False\n",
            "\n",
            "Using 'not' logical operator:\n",
            "not (a < b): False\n",
            "not (a > b): True\n"
          ]
        }
      ]
    },
    {
      "cell_type": "markdown",
      "source": [
        "9. Write a Python program to convert user input from string to integer, float, and boolean types."
      ],
      "metadata": {
        "id": "lW50KS2v6mMj"
      }
    },
    {
      "cell_type": "code",
      "source": [
        "#ANS. Here's a Python program that takes user input and converts it to int, float, and bool types:\n",
        "\n",
        "# Taking user input as a string\n",
        "user_input = input(\"Enter a value: \")\n",
        "\n",
        "# Convert to integer (if possible)\n",
        "try:\n",
        "    int_value = int(user_input)\n",
        "    print(f\"Converted to integer: {int_value}\")\n",
        "except ValueError:\n",
        "    print(\"Cannot convert to integer.\")\n",
        "\n",
        "# Convert to float (if possible)\n",
        "try:\n",
        "    float_value = float(user_input)\n",
        "    print(f\"Converted to float: {float_value}\")\n",
        "except ValueError:\n",
        "    print(\"Cannot convert to float.\")\n",
        "\n",
        "# Convert to boolean\n",
        "# In Python, any non-empty string is considered True, empty string is False\n",
        "bool_value = bool(user_input)\n",
        "print(f\"Converted to boolean: {bool_value}\")"
      ],
      "metadata": {
        "colab": {
          "base_uri": "https://localhost:8080/"
        },
        "id": "HwBRXgga6sor",
        "outputId": "e2aa140f-3d77-4ce0-8a84-250a76281ceb"
      },
      "execution_count": 15,
      "outputs": [
        {
          "output_type": "stream",
          "name": "stdout",
          "text": [
            "Enter a value: 5678\n",
            "Converted to integer: 5678\n",
            "Converted to float: 5678.0\n",
            "Converted to boolean: True\n"
          ]
        }
      ]
    },
    {
      "cell_type": "markdown",
      "source": [
        "10. Write code to demonstrate type casting with list elements."
      ],
      "metadata": {
        "id": "hMJ5EtRD7F47"
      }
    },
    {
      "cell_type": "code",
      "source": [
        "#ANS. Python code that demonstrates type casting with list elements, converting elements from one type to another:\n",
        "\n",
        "# List of different types of elements as strings\n",
        "mixed_list = [\"10\", \"3.14\", \"True\", \"100\"]\n",
        "\n",
        "# Convert each element to a different type\n",
        "int_list = [int(item) if item.isdigit() else 0 for item in mixed_list]  # Convert to integers (or default to 0 if not convertible)\n",
        "float_list = [float(item) if item.replace('.', '', 1).isdigit() else 0.0 for item in mixed_list]  # Convert to float\n",
        "bool_list = [item.lower() == 'true' for item in mixed_list]  # Convert to boolean (True if the string is 'True')\n",
        "\n",
        "# Print the original list and the converted lists\n",
        "print(\"Original List:\", mixed_list)\n",
        "print(\"Converted to Integers:\", int_list)\n",
        "print(\"Converted to Floats:\", float_list)\n",
        "print(\"Converted to Booleans:\", bool_list)"
      ],
      "metadata": {
        "colab": {
          "base_uri": "https://localhost:8080/"
        },
        "id": "HLMZHBEZ7J7b",
        "outputId": "08f53c1d-a4a6-42eb-8c62-17232b9ca4c6"
      },
      "execution_count": 16,
      "outputs": [
        {
          "output_type": "stream",
          "name": "stdout",
          "text": [
            "Original List: ['10', '3.14', 'True', '100']\n",
            "Converted to Integers: [10, 0, 0, 100]\n",
            "Converted to Floats: [10.0, 3.14, 0.0, 100.0]\n",
            "Converted to Booleans: [False, False, True, False]\n"
          ]
        }
      ]
    },
    {
      "cell_type": "markdown",
      "source": [
        "11. Write a program that checks if a number is positive, negative, or zero."
      ],
      "metadata": {
        "id": "N_-IdvYa7U2z"
      }
    },
    {
      "cell_type": "code",
      "source": [
        "#ANS.\n",
        "# Function to check if the number is positive, negative, or zero\n",
        "def check_number(num):\n",
        "    if num > 0:\n",
        "        print(f\"{num} is a positive number.\")\n",
        "    elif num < 0:\n",
        "        print(f\"{num} is a negative number.\")\n",
        "    else:\n",
        "        print(f\"{num} is zero.\")\n",
        "\n",
        "# Taking user input\n",
        "try:\n",
        "    number = float(input(\"Enter a number: \"))  # Convert input to float to handle both integer and floating point numbers\n",
        "    check_number(number)\n",
        "except ValueError:\n",
        "    print(\"Please enter a valid number.\")"
      ],
      "metadata": {
        "colab": {
          "base_uri": "https://localhost:8080/"
        },
        "id": "ESAkkfqy7Yeb",
        "outputId": "a40c0adb-275e-493e-e50f-0f898a118484"
      },
      "execution_count": 17,
      "outputs": [
        {
          "output_type": "stream",
          "name": "stdout",
          "text": [
            "Enter a number: 24\n",
            "24.0 is a positive number.\n"
          ]
        }
      ]
    },
    {
      "cell_type": "markdown",
      "source": [
        "12. Write a for loop to print numbers from 1 to 10."
      ],
      "metadata": {
        "id": "NUoN6alb7nW6"
      }
    },
    {
      "cell_type": "code",
      "source": [
        "#ANS.\n",
        "\n",
        "for i in range(1, 11):\n",
        "    print(i)"
      ],
      "metadata": {
        "colab": {
          "base_uri": "https://localhost:8080/"
        },
        "id": "G7ap20U_7qZq",
        "outputId": "26ae8a7d-9cb3-4055-df84-1094007b1477"
      },
      "execution_count": 18,
      "outputs": [
        {
          "output_type": "stream",
          "name": "stdout",
          "text": [
            "1\n",
            "2\n",
            "3\n",
            "4\n",
            "5\n",
            "6\n",
            "7\n",
            "8\n",
            "9\n",
            "10\n"
          ]
        }
      ]
    },
    {
      "cell_type": "markdown",
      "source": [
        "13. Write a Python program to find the sum of all even numbers between 1 and 50."
      ],
      "metadata": {
        "id": "G5GEKPDf7xzz"
      }
    },
    {
      "cell_type": "code",
      "source": [
        "#ANS.\n",
        "# Initialize the sum to 0\n",
        "sum_of_even_numbers = 0\n",
        "\n",
        "# Loop through the numbers from 1 to 50\n",
        "for num in range(1, 51):\n",
        "    if num % 2 == 0:  # Check if the number is even\n",
        "        sum_of_even_numbers += num  # Add the even number to the sum\n",
        "\n",
        "# Print the result\n",
        "print(\"The sum of all even numbers between 1 and 50 is:\", sum_of_even_numbers)"
      ],
      "metadata": {
        "colab": {
          "base_uri": "https://localhost:8080/"
        },
        "id": "0xmSJNcp70rq",
        "outputId": "6c17ebaf-3864-414e-a591-eaf9d4b4feda"
      },
      "execution_count": 19,
      "outputs": [
        {
          "output_type": "stream",
          "name": "stdout",
          "text": [
            "The sum of all even numbers between 1 and 50 is: 650\n"
          ]
        }
      ]
    },
    {
      "cell_type": "markdown",
      "source": [
        "14. Write a program to reverse a string using a while loop."
      ],
      "metadata": {
        "id": "lcD3MJD28DzS"
      }
    },
    {
      "cell_type": "code",
      "source": [
        "#ANS. Python program that reverses a string using a while loop:\n",
        "\n",
        "def reverse_string(input_string):\n",
        "    reversed_string = \"\"\n",
        "    index = len(input_string) - 1  # Start from the last character\n",
        "\n",
        "    while index >= 0:  # Continue until index is less than 0\n",
        "        reversed_string += input_string[index]  # Append the current character to the result\n",
        "        index -= 1  # Move to the previous character\n",
        "\n",
        "    return reversed_string\n",
        "\n",
        "# Taking user input\n",
        "user_input = input(\"Enter a string: \")\n",
        "reversed_result = reverse_string(user_input)\n",
        "print(\"Reversed string:\", reversed_result)"
      ],
      "metadata": {
        "colab": {
          "base_uri": "https://localhost:8080/"
        },
        "id": "Lw73S15u8Gny",
        "outputId": "6c7dba01-1b05-4442-dace-f82c5ba23958"
      },
      "execution_count": 20,
      "outputs": [
        {
          "output_type": "stream",
          "name": "stdout",
          "text": [
            "Enter a string: SAMRAT\n",
            "Reversed string: TARMAS\n"
          ]
        }
      ]
    },
    {
      "cell_type": "markdown",
      "source": [
        "15. Write a Python program to calculate the factorial of a number provided by the user using a while loop."
      ],
      "metadata": {
        "id": "R-0MzbA-8U_a"
      }
    },
    {
      "cell_type": "code",
      "source": [
        "#ANS.\n",
        "\n",
        "# Function to calculate factorial using a while loop\n",
        "def calculate_factorial(number):\n",
        "    factorial = 1  # Start with 1 as the factorial base case\n",
        "    while number > 1:  # Continue multiplying while number is greater than 1\n",
        "        factorial *= number  # Multiply the current number with factorial\n",
        "        number -= 1  # Decrease the number by 1\n",
        "    return factorial\n",
        "\n",
        "# Take user input\n",
        "try:\n",
        "    user_input = int(input(\"Enter a number to calculate its factorial: \"))\n",
        "    if user_input < 0:\n",
        "        print(\"Factorial is not defined for negative numbers.\")\n",
        "    else:\n",
        "        result = calculate_factorial(user_input)\n",
        "        print(f\"The factorial of {user_input} is: {result}\")\n",
        "except ValueError:\n",
        "    print(\"Please enter a valid integer.\")"
      ],
      "metadata": {
        "colab": {
          "base_uri": "https://localhost:8080/"
        },
        "id": "AdbENCcO8aJ6",
        "outputId": "533bab54-b1d7-4e1f-9eaf-7b9ae7f42180"
      },
      "execution_count": 21,
      "outputs": [
        {
          "output_type": "stream",
          "name": "stdout",
          "text": [
            "Enter a number to calculate its factorial: 25\n",
            "The factorial of 25 is: 15511210043330985984000000\n"
          ]
        }
      ]
    }
  ]
}